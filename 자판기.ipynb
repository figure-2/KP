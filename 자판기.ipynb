{
 "cells": [
  {
   "cell_type": "markdown",
   "metadata": {
    "id": "ENkMVyzHAHel"
   },
   "source": [
    "## 자판기"
   ]
  },
  {
   "cell_type": "code",
   "execution_count": null,
   "metadata": {
    "colab": {
     "base_uri": "https://localhost:8080/"
    },
    "collapsed": true,
    "executionInfo": {
     "elapsed": 2015,
     "status": "ok",
     "timestamp": 1742952864308,
     "user": {
      "displayName": "이도형",
      "userId": "04042082736582415525"
     },
     "user_tz": -540
    },
    "id": "ZtoQ6WHxMRFK",
    "outputId": "305fc230-add9-4137-f2cd-b4c08edfdce9"
   },
   "outputs": [
    {
     "name": "stdout",
     "output_type": "stream",
     "text": [
      "음료목록 1.오렌지주스(100원), 2.커피(200원), 3.콜라(300원)\n",
      "동전을 넣으세요: 500\n",
      "음료를 고르세요: 1\n",
      "오렌지주스가 곧 제공됩니다.\n",
      "거스름돈은 400원입니다.\n"
     ]
    }
   ],
   "source": [
    "count = 0\n",
    "while count < 2:\n",
    "    print('음료목록 1.오렌지주스(100원), 2.커피(200원), 3.콜라(300원)')\n",
    "    \n",
    "    try:\n",
    "        coin = int(input('동전을 넣으세요: '))\n",
    "        if coin < 0:\n",
    "            print('돈을 입력해주세요')\n",
    "            continue \n",
    "    except ValueError:\n",
    "        print('다시 입력해주세요.')\n",
    "        continue  \n",
    "\n",
    "    drink = int(input('음료를 고르세요: '))\n",
    "\n",
    "    if drink == 1:\n",
    "        if coin >= 100:\n",
    "            remain = coin - 100\n",
    "            print('오렌지주스가 곧 제공됩니다.')\n",
    "            print(f'거스름돈은 {remain}원입니다.')\n",
    "            coin = 0  \n",
    "        else:\n",
    "            print('잔액이 부족합니다.')\n",
    "    elif drink == 2:\n",
    "        if coin >= 200:\n",
    "            remain = coin - 200\n",
    "            print('커피가 곧 제공됩니다.')\n",
    "            print(f'거스름돈은 {remain}원입니다.')\n",
    "            coin = 0  \n",
    "        else:\n",
    "            print('잔액이 부족합니다.')\n",
    "    elif drink == 3:\n",
    "        if coin >= 300:\n",
    "            remain = coin - 300\n",
    "            print('콜라가 곧 제공됩니다.')\n",
    "            print(f'거스름돈은 {remain}원입니다.')\n",
    "            coin = 0  \n",
    "        else:\n",
    "            print('잔액이 부족합니다.')\n",
    "    else:\n",
    "        print('없는 메뉴입니다. 다시 입력해 주세요.')\n",
    "\n",
    "    count += 1"
   ]
  },
  {
   "cell_type": "code",
   "execution_count": null,
   "metadata": {
    "id": "IibqCKsRpx-a"
   },
   "outputs": [],
   "source": []
  },
  {
   "cell_type": "markdown",
   "metadata": {
    "id": "ygx7Nzdw3Tjs"
   },
   "source": [
    "## 0326"
   ]
  },
  {
   "cell_type": "code",
   "execution_count": 6,
   "metadata": {
    "colab": {
     "base_uri": "https://localhost:8080/"
    },
    "executionInfo": {
     "elapsed": 49,
     "status": "ok",
     "timestamp": 1742948999392,
     "user": {
      "displayName": "이도형",
      "userId": "04042082736582415525"
     },
     "user_tz": -540
    },
    "id": "4pR8jc7Y2O3R",
    "outputId": "d3199825-188a-4c82-fb18-8873fb0a830c"
   },
   "outputs": [
    {
     "name": "stdout",
     "output_type": "stream",
     "text": [
      "5 X 1 = 5\n",
      "5 X 2 = 10\n",
      "5 X 3 = 15\n",
      "5 X 4 = 20\n",
      "5 X 5 = 25\n",
      "5 X 6 = 30\n",
      "5 X 7 = 35\n",
      "5 X 8 = 40\n",
      "5 X 9 = 45\n"
     ]
    }
   ],
   "source": [
    "a = 5\n",
    "\n",
    "for i in range(1,10):\n",
    "   print(f'{a} X {i} = {i*a}')\n",
    "#print('while 조건문을 for으로 변경')"
   ]
  },
  {
   "cell_type": "code",
   "execution_count": 8,
   "metadata": {
    "colab": {
     "base_uri": "https://localhost:8080/"
    },
    "executionInfo": {
     "elapsed": 11,
     "status": "ok",
     "timestamp": 1742949094274,
     "user": {
      "displayName": "이도형",
      "userId": "04042082736582415525"
     },
     "user_tz": -540
    },
    "id": "BWAeuaCL2lXI",
    "outputId": "5062f80d-77d4-42cb-8877-7ed85d3bad3f"
   },
   "outputs": [
    {
     "name": "stdout",
     "output_type": "stream",
     "text": [
      "5 X 1 = 5\n",
      "5 X 3 = 15\n",
      "5 X 5 = 25\n",
      "5 X 7 = 35\n",
      "5 X 9 = 45\n"
     ]
    }
   ],
   "source": [
    "a = 5\n",
    "\n",
    "for i in range(1,10,+2):\n",
    "   print(f'{a} X {i} = {i*a}')\n",
    "#print('while 조건문을 for으로 변경')"
   ]
  },
  {
   "cell_type": "code",
   "execution_count": null,
   "metadata": {
    "id": "PUAbQ48f3xRU"
   },
   "outputs": [],
   "source": []
  },
  {
   "cell_type": "code",
   "execution_count": 38,
   "metadata": {
    "colab": {
     "base_uri": "https://localhost:8080/"
    },
    "executionInfo": {
     "elapsed": 1354,
     "status": "ok",
     "timestamp": 1742964140926,
     "user": {
      "displayName": "이도형",
      "userId": "04042082736582415525"
     },
     "user_tz": -540
    },
    "id": "wgFPe1dF31ev",
    "outputId": "959eafdd-cf04-440d-ae33-98a049a7b827"
   },
   "outputs": [
    {
     "name": "stdout",
     "output_type": "stream",
     "text": [
      "1\n",
      "*\n"
     ]
    }
   ],
   "source": [
    "a = '*'\n",
    "\n",
    "n = int(input())\n",
    "if n >=1:\n",
    " for i in range(1,n+1):\n",
    "  print(i*a)\n",
    "else:\n",
    "  print('숫자 입력')"
   ]
  },
  {
   "cell_type": "code",
   "execution_count": 10,
   "metadata": {
    "executionInfo": {
     "elapsed": 2,
     "status": "ok",
     "timestamp": 1742963669377,
     "user": {
      "displayName": "이도형",
      "userId": "04042082736582415525"
     },
     "user_tz": -540
    },
    "id": "X5E8e0oMJ12_"
   },
   "outputs": [],
   "source": []
  },
  {
   "cell_type": "code",
   "execution_count": 40,
   "metadata": {
    "colab": {
     "base_uri": "https://localhost:8080/"
    },
    "executionInfo": {
     "elapsed": 41,
     "status": "ok",
     "timestamp": 1742964201902,
     "user": {
      "displayName": "이도형",
      "userId": "04042082736582415525"
     },
     "user_tz": -540
    },
    "id": "AU7YvRVLwl5I",
    "outputId": "efb857be-c7dd-4d3c-c341-3890a5c56afe"
   },
   "outputs": [
    {
     "name": "stdout",
     "output_type": "stream",
     "text": [
      "      1 \n",
      "    2 3 4 \n",
      "  5 6 7 8  9 \n",
      "\n"
     ]
    }
   ],
   "source": [
    "num = 1\n",
    "rows = 4\n",
    "\n",
    "for i in range(1, rows + 1):\n",
    "    spaces = rows - i\n",
    "    print(\"  \" * spaces, end=\"\")\n",
    "\n",
    "    for j in range(2 * i - 1):\n",
    "        if num <= 9:\n",
    "            print(num, end=\" \")\n",
    "            if num == 8:\n",
    "                print(end=\" \")\n",
    "            num += 1\n",
    "        else:\n",
    "            break\n",
    "    print()"
   ]
  },
  {
   "cell_type": "code",
   "execution_count": null,
   "metadata": {
    "id": "jNPC_Wjxwmdj"
   },
   "outputs": [],
   "source": []
  }
 ],
 "metadata": {
  "colab": {
   "authorship_tag": "ABX9TyOdISXh44Qz3dT6xknlyTN9",
   "collapsed_sections": [
    "ENkMVyzHAHel"
   ],
   "provenance": []
  },
  "kernelspec": {
   "display_name": "Python 3",
   "name": "python3"
  },
  "language_info": {
   "name": "python"
  }
 },
 "nbformat": 4,
 "nbformat_minor": 0
}
