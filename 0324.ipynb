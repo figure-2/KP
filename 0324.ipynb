{
 "cells": [
  {
   "cell_type": "markdown",
   "metadata": {
    "id": "gJS8J2-D0-IL"
   },
   "source": [
    "## 0324"
   ]
  },
  {
   "cell_type": "code",
   "execution_count": null,
   "metadata": {
    "colab": {
     "base_uri": "https://localhost:8080/",
     "height": 353
    },
    "collapsed": true,
    "executionInfo": {
     "elapsed": 46,
     "status": "error",
     "timestamp": 1742782358935,
     "user": {
      "displayName": "이도형",
      "userId": "04042082736582415525"
     },
     "user_tz": -540
    },
    "id": "t5wkrLEt1BAp",
    "outputId": "a6fc1f53-b9f8-4d3e-fb99-288e6a711706"
   },
   "outputs": [],
   "source": [
    "print('hello world')\n",
    "\n",
    "print('menu')\n",
    "print('1. 이름')\n",
    "print('2. 전공')\n",
    "print('3. 거주지')\n",
    "print('4. 나이')\n",
    "print('5. 경력')\n",
    "print('6. 자격증')\n",
    "print('7. 취미')\n",
    "print('8. NBTI')\n",
    "print('9. 음식')\n",
    "print('10. 좋아하는 운동동')\n",
    "\n",
    "input = input('숫자 입력 범위(1~3): ')\n",
    "\n",
    "if input == '1':\n",
    "    print('이도형')\n",
    "elif input == '2':\n",
    "    print('경영')\n",
    "elif input == '3':\n",
    "    print('서울')\n",
    "elif input == '4':\n",
    "    print('89년생')\n",
    "elif input == '5':\n",
    "    print('품질 업무')\n",
    "elif input == '6':\n",
    "    print('준비중')\n",
    "elif input == '7':\n",
    "    print('영화')\n",
    "elif input == '8':\n",
    "    print(' ESFJ')\n",
    "elif input == '9':\n",
    "    print('한식')\n",
    "elif input == '10':\n",
    "    print('겨울 스포츠')\n",
    "\n",
    "\n",
    "else:\n",
    "    print('범위 값을 입력하세요')"
   ]
  },
  {
   "cell_type": "code",
   "execution_count": null,
   "metadata": {
    "colab": {
     "base_uri": "https://localhost:8080/"
    },
    "executionInfo": {
     "elapsed": 8,
     "status": "ok",
     "timestamp": 1742793787358,
     "user": {
      "displayName": "이도형",
      "userId": "04042082736582415525"
     },
     "user_tz": -540
    },
    "id": "ks41uHQomrg1",
    "outputId": "e5d7c74f-cc61-4b90-ce5b-6979504d131b"
   },
   "outputs": [
    {
     "name": "stdout",
     "output_type": "stream",
     "text": [
      "철수\n",
      "영희\n"
     ]
    }
   ],
   "source": [
    "name = '철수'\n",
    "print(name)\n",
    "\n",
    "name2 = \"영희\"\n",
    "print(name2)"
   ]
  },
  {
   "cell_type": "code",
   "execution_count": null,
   "metadata": {
    "colab": {
     "base_uri": "https://localhost:8080/"
    },
    "executionInfo": {
     "elapsed": 11,
     "status": "ok",
     "timestamp": 1742793903979,
     "user": {
      "displayName": "이도형",
      "userId": "04042082736582415525"
     },
     "user_tz": -540
    },
    "id": "r1og6oCHmuSL",
    "outputId": "e733a0f8-3e6e-4090-885e-0ba914abc1f0"
   },
   "outputs": [
    {
     "name": "stdout",
     "output_type": "stream",
     "text": [
      "덧셈 결과 15\n",
      "뺄셈 결과 7\n",
      "곱셈 결과 44\n",
      "나눗셈 결과 2.75\n",
      "나눗셈 정수 몫 2\n",
      "나눗셈 나머지 3\n",
      "거듭제곱 결과 14641\n"
     ]
    }
   ],
   "source": [
    "a = 11\n",
    "b = 4\n",
    "\n",
    "print('덧셈 결과', a + b)\n",
    "print('뺄셈 결과', a - b)\n",
    "print('곱셈 결과', a * b)\n",
    "print('나눗셈 결과', a / b)\n",
    "print('나눗셈 정수 몫', a // b)\n",
    "print('나눗셈 나머지', a % b)\n",
    "print('거듭제곱 결과', a ** b)"
   ]
  },
  {
   "cell_type": "code",
   "execution_count": null,
   "metadata": {
    "colab": {
     "base_uri": "https://localhost:8080/"
    },
    "executionInfo": {
     "elapsed": 42,
     "status": "ok",
     "timestamp": 1742793951467,
     "user": {
      "displayName": "이도형",
      "userId": "04042082736582415525"
     },
     "user_tz": -540
    },
    "id": "74HhyrHtnKjO",
    "outputId": "7d896edc-ba4c-4451-aac5-687e40b5faad"
   },
   "outputs": [
    {
     "name": "stdout",
     "output_type": "stream",
     "text": [
      "True\n",
      "True\n",
      "False\n",
      "False\n"
     ]
    }
   ],
   "source": [
    "a = 11\n",
    "b = 4\n",
    "\n",
    "print(a>b)\n",
    "print(a>=b)\n",
    "print(a<b)\n",
    "print(a<=b)"
   ]
  },
  {
   "cell_type": "markdown",
   "metadata": {
    "id": "ZiPQtZ2s20of"
   },
   "source": []
  },
  {
   "cell_type": "code",
   "execution_count": 9,
   "metadata": {
    "colab": {
     "base_uri": "https://localhost:8080/"
    },
    "executionInfo": {
     "elapsed": 9,
     "status": "ok",
     "timestamp": 1742798060972,
     "user": {
      "displayName": "이도형",
      "userId": "04042082736582415525"
     },
     "user_tz": -540
    },
    "id": "UoeXWbg1nKg_",
    "outputId": "6e44a054-d709-43a9-e3a8-14aedf145935"
   },
   "outputs": [
    {
     "name": "stdout",
     "output_type": "stream",
     "text": [
      "False\n",
      "True\n"
     ]
    }
   ],
   "source": [
    "a = True\n",
    "b = False\n",
    "\n",
    "print(a and b)\n",
    "print(a or b)"
   ]
  },
  {
   "cell_type": "code",
   "execution_count": 11,
   "metadata": {
    "colab": {
     "base_uri": "https://localhost:8080/"
    },
    "executionInfo": {
     "elapsed": 40,
     "status": "ok",
     "timestamp": 1742798093818,
     "user": {
      "displayName": "이도형",
      "userId": "04042082736582415525"
     },
     "user_tz": -540
    },
    "id": "quK6XaI5nKem",
    "outputId": "49bc5a60-38cc-42b7-8e5d-dda5f8f6b456"
   },
   "outputs": [
    {
     "name": "stdout",
     "output_type": "stream",
     "text": [
      "True\n",
      "False\n"
     ]
    }
   ],
   "source": [
    "a = 3\n",
    "B = [1, 3, 5, 7, 9]\n",
    "\n",
    "print(a in B)\n",
    "print(a not in B)"
   ]
  },
  {
   "cell_type": "code",
   "execution_count": 14,
   "metadata": {
    "colab": {
     "base_uri": "https://localhost:8080/"
    },
    "executionInfo": {
     "elapsed": 42,
     "status": "ok",
     "timestamp": 1742798549042,
     "user": {
      "displayName": "이도형",
      "userId": "04042082736582415525"
     },
     "user_tz": -540
    },
    "id": "pMPMd1ZC4XAX",
    "outputId": "69478c30-4197-4417-abed-bee130865a96"
   },
   "outputs": [
    {
     "name": "stdout",
     "output_type": "stream",
     "text": [
      "94.985\n"
     ]
    }
   ],
   "source": [
    " #연산자 사용\n",
    "\n",
    "a = 5.5\n",
    "b = 5.5\n",
    "PI = 3.14\n",
    "\n",
    "print(a * b * PI)"
   ]
  },
  {
   "cell_type": "code",
   "execution_count": 32,
   "metadata": {
    "colab": {
     "base_uri": "https://localhost:8080/"
    },
    "executionInfo": {
     "elapsed": 3,
     "status": "ok",
     "timestamp": 1742799531704,
     "user": {
      "displayName": "이도형",
      "userId": "04042082736582415525"
     },
     "user_tz": -540
    },
    "id": "geETaHoR6OT0",
    "outputId": "8c76afa6-8e37-4341-b769-656663bb4d8b"
   },
   "outputs": [
    {
     "name": "stdout",
     "output_type": "stream",
     "text": [
      "False\n"
     ]
    }
   ],
   "source": [
    "# 삼각형1\n",
    "a_1 = 4\n",
    "b_1 = 10\n",
    "c_1 = 0.5 * a_1 * b_1\n",
    "\n",
    "# 삼각형2\n",
    "a_2 = 5\n",
    "b_2 = 9\n",
    "c_2 = 0.5 * a_2 * b_2\n",
    "\n",
    "# 면적 비교\n",
    "d = c_1 == c_2\n",
    "print(f\"{d}\")"
   ]
  },
  {
   "cell_type": "code",
   "execution_count": null,
   "metadata": {
    "id": "7ara_qCG62zG"
   },
   "outputs": [],
   "source": []
  }
 ],
 "metadata": {
  "colab": {
   "provenance": []
  },
  "kernelspec": {
   "display_name": "Python 3",
   "name": "python3"
  },
  "language_info": {
   "name": "python"
  }
 },
 "nbformat": 4,
 "nbformat_minor": 0
}
