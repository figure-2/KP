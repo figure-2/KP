{
 "cells": [
  {
   "cell_type": "code",
   "execution_count": 17,
   "metadata": {
    "colab": {
     "base_uri": "https://localhost:8080/"
    },
    "executionInfo": {
     "elapsed": 6,
     "status": "ok",
     "timestamp": 1742868050699,
     "user": {
      "displayName": "이도형",
      "userId": "04042082736582415525"
     },
     "user_tz": -540
    },
    "id": "4YOKn1ar_usm",
    "outputId": "0c08aab2-b9a5-4dc5-ff85-0a93f748036f"
   },
   "outputs": [
    {
     "name": "stdout",
     "output_type": "stream",
     "text": [
      "Right!\n",
      "a is 5\n",
      "Right!\n",
      "a is not 3\n"
     ]
    }
   ],
   "source": [
    "a = 5\n",
    "\n",
    "if a == 5:\n",
    "  print('Right!')\n",
    "  print('a is 5')\n",
    "\n",
    "if a == 3:\n",
    "  print('Right!')\n",
    "  print('a is 3')\n",
    "\n",
    "if a != 3:\n",
    "  print('Right!')\n",
    "  print('a is not 3')"
   ]
  },
  {
   "cell_type": "code",
   "execution_count": 15,
   "metadata": {
    "colab": {
     "base_uri": "https://localhost:8080/"
    },
    "executionInfo": {
     "elapsed": 5,
     "status": "ok",
     "timestamp": 1742867868880,
     "user": {
      "displayName": "이도형",
      "userId": "04042082736582415525"
     },
     "user_tz": -540
    },
    "id": "Z8b8YLI5Az3t",
    "outputId": "2814fac8-6c63-44d3-fb07-a0acae50311d"
   },
   "outputs": [
    {
     "name": "stdout",
     "output_type": "stream",
     "text": [
      "Right!\n",
      "a is 3\n"
     ]
    }
   ],
   "source": [
    "a = 3\n",
    "\n",
    "if a == 5:\n",
    "  print('Right!')\n",
    "  print('a is 5')\n",
    "\n",
    "elif a == 3:\n",
    "  print('Right!')\n",
    "  print('a is 3')\n",
    "\n",
    "if a != 3:\n",
    "  print('Right!')\n",
    "  print('a is not 3')"
   ]
  },
  {
   "cell_type": "code",
   "execution_count": 18,
   "metadata": {
    "colab": {
     "base_uri": "https://localhost:8080/"
    },
    "executionInfo": {
     "elapsed": 6,
     "status": "ok",
     "timestamp": 1742868133845,
     "user": {
      "displayName": "이도형",
      "userId": "04042082736582415525"
     },
     "user_tz": -540
    },
    "id": "WCYTcaw_BH1O",
    "outputId": "6d72e39e-5110-4830-bfa5-5e51a265bbf2"
   },
   "outputs": [
    {
     "name": "stdout",
     "output_type": "stream",
     "text": [
      "Right!\n",
      "a is 5\n",
      "a is not 5\n"
     ]
    }
   ],
   "source": [
    "a = 5\n",
    "\n",
    "if a == 5:\n",
    "  print('Right!')\n",
    "  print('a is 5')\n",
    "else:\n",
    "  print('a is not 5')\n",
    "\n",
    "a = 3\n",
    "if a == 5:\n",
    "  print('Right!')\n",
    "  print('a is 5')\n",
    "else:\n",
    "  print('a is not 5')"
   ]
  },
  {
   "cell_type": "markdown",
   "metadata": {
    "id": "fXZsRAUiB9cT"
   },
   "source": []
  },
  {
   "cell_type": "code",
   "execution_count": 32,
   "metadata": {
    "colab": {
     "base_uri": "https://localhost:8080/"
    },
    "executionInfo": {
     "elapsed": 10,
     "status": "ok",
     "timestamp": 1742869219976,
     "user": {
      "displayName": "이도형",
      "userId": "04042082736582415525"
     },
     "user_tz": -540
    },
    "id": "Pq7DRTa0DWzL",
    "outputId": "f6a26303-4ba0-474a-81c5-c9d8c5c5aed2"
   },
   "outputs": [
    {
     "name": "stdout",
     "output_type": "stream",
     "text": [
      "a is 5\n"
     ]
    }
   ],
   "source": [
    "a = 5\n",
    "\n",
    "if a < 5:\n",
    "  print('a is smaller than 5')\n",
    "\n",
    "elif a > 5:\n",
    "  print('a is larger than 5')\n",
    "\n",
    "elif a == 6:\n",
    "  print('a is larger than 5')\n",
    "\n",
    "else:\n",
    "  print('a is 5')"
   ]
  },
  {
   "cell_type": "code",
   "execution_count": 37,
   "metadata": {
    "colab": {
     "base_uri": "https://localhost:8080/"
    },
    "executionInfo": {
     "elapsed": 5,
     "status": "ok",
     "timestamp": 1742869424810,
     "user": {
      "displayName": "이도형",
      "userId": "04042082736582415525"
     },
     "user_tz": -540
    },
    "id": "E9RT4tgeDiew",
    "outputId": "d9670408-e795-441f-9d32-c7b8be1e7258"
   },
   "outputs": [
    {
     "name": "stdout",
     "output_type": "stream",
     "text": [
      "5X1=5\n",
      "5X2=10\n",
      "5X3=15\n",
      "5X4=20\n",
      "5X5=25\n",
      "5X6=30\n",
      "5X7=35\n",
      "5X8=40\n",
      "5X9=45\n",
      "구구단 5단\n"
     ]
    }
   ],
   "source": [
    "a = 5\n",
    "i = 1\n",
    "\n",
    "while i <= 9:\n",
    "  print(str(a) + 'X' + str(i)+'='+str(i*a))\n",
    "  i += 1\n",
    "print(\"구구단 5단\")"
   ]
  },
  {
   "cell_type": "code",
   "execution_count": 38,
   "metadata": {
    "colab": {
     "base_uri": "https://localhost:8080/"
    },
    "executionInfo": {
     "elapsed": 7,
     "status": "ok",
     "timestamp": 1742869487779,
     "user": {
      "displayName": "이도형",
      "userId": "04042082736582415525"
     },
     "user_tz": -540
    },
    "id": "9CM8loLtG424",
    "outputId": "f7ce9774-0e8a-445b-92f3-9d77e6d5d312"
   },
   "outputs": [
    {
     "name": "stdout",
     "output_type": "stream",
     "text": [
      "5X1=5\n",
      "5X2=10\n",
      "5X3=15\n",
      "5X4=20\n",
      "5X5=25\n",
      "5X6=30\n",
      "5X7=35\n",
      "5X8=40\n",
      "5X9=45\n",
      "구구단 5단\n"
     ]
    }
   ],
   "source": [
    "a = 5\n",
    "i = 1\n",
    "\n",
    "while i <= 9:\n",
    "  print(str(a) + 'X' + str(i)+'='+str(i*a))\n",
    "  i += 1\n",
    "print(\"구구단 5단\")"
   ]
  },
  {
   "cell_type": "code",
   "execution_count": 40,
   "metadata": {
    "colab": {
     "base_uri": "https://localhost:8080/"
    },
    "executionInfo": {
     "elapsed": 7,
     "status": "ok",
     "timestamp": 1742869530379,
     "user": {
      "displayName": "이도형",
      "userId": "04042082736582415525"
     },
     "user_tz": -540
    },
    "id": "81oFbpKrHd-5",
    "outputId": "8f46a7e1-8a71-44b8-df1b-a3e2707042bf"
   },
   "outputs": [
    {
     "name": "stdout",
     "output_type": "stream",
     "text": [
      "5X1=5\n",
      "5X3=15\n",
      "5X5=25\n",
      "5X7=35\n",
      "5X9=45\n",
      "구구단 5단\n"
     ]
    }
   ],
   "source": [
    "a = 5\n",
    "i = 1\n",
    "\n",
    "while i <= 9:\n",
    "  if i % 2!= 0:\n",
    "    print(str(a) + 'X' + str(i) + '=' + str(i * a))\n",
    "  i += 1\n",
    "print(\"구구단 5단\")"
   ]
  },
  {
   "cell_type": "code",
   "execution_count": 43,
   "metadata": {
    "colab": {
     "base_uri": "https://localhost:8080/"
    },
    "executionInfo": {
     "elapsed": 5,
     "status": "ok",
     "timestamp": 1742869576718,
     "user": {
      "displayName": "이도형",
      "userId": "04042082736582415525"
     },
     "user_tz": -540
    },
    "id": "JjhNztOAHnAG",
    "outputId": "1dadc1c6-b3e7-4a5f-cb53-f45aa8c02197"
   },
   "outputs": [
    {
     "name": "stdout",
     "output_type": "stream",
     "text": [
      "5X2=10\n",
      "5X4=20\n",
      "5X6=30\n",
      "5X8=40\n",
      "구구단 5단\n"
     ]
    }
   ],
   "source": [
    "a = 5\n",
    "i = 1\n",
    "\n",
    "while i <= 9:\n",
    "  if i % 2 == 0:\n",
    "    print(str(a) + 'X' + str(i) + '=' + str(i * a))\n",
    "  i += 1\n",
    "print(\"구구단 5단\")"
   ]
  },
  {
   "cell_type": "code",
   "execution_count": 3,
   "metadata": {},
   "outputs": [
    {
     "name": "stdout",
     "output_type": "stream",
     "text": [
      "3 X 1 = 3\n",
      "3 X 3 = 9\n",
      "3 X 5 = 15\n",
      "3 X 7 = 21\n",
      "3 X 9 = 27\n",
      "\n",
      "5 X 1 = 5\n",
      "5 X 3 = 15\n",
      "5 X 5 = 25\n",
      "5 X 7 = 35\n",
      "5 X 9 = 45\n",
      "\n",
      "7 X 1 = 7\n",
      "7 X 3 = 21\n",
      "7 X 5 = 35\n",
      "7 X 7 = 49\n",
      "7 X 9 = 63\n",
      "\n",
      "9 X 1 = 9\n",
      "9 X 3 = 27\n",
      "9 X 5 = 45\n",
      "9 X 7 = 63\n",
      "9 X 9 = 81\n",
      "\n"
     ]
    }
   ],
   "source": [
    "a = 2\n",
    "\n",
    "while a <= 9:\n",
    "    if a % 2 != 0: \n",
    "        i = 1\n",
    "        while i <= 9:\n",
    "            if (a * i) % 2 != 0:  \n",
    "                print(f\"{a} X {i} = {a * i}\")  \n",
    "            i += 1\n",
    "        print()  \n",
    "    a += 1"
   ]
  },
  {
   "cell_type": "code",
   "execution_count": null,
   "metadata": {},
   "outputs": [
    {
     "name": "stdout",
     "output_type": "stream",
     "text": [
      "2 X 2 = 4\n",
      "2 X 4 = 8\n",
      "2 X 6 = 12\n",
      "2 X 8 = 16\n",
      "\n",
      "4 X 2 = 8\n",
      "4 X 4 = 16\n",
      "4 X 6 = 24\n",
      "4 X 8 = 32\n",
      "\n",
      "6 X 2 = 12\n",
      "6 X 4 = 24\n",
      "6 X 6 = 36\n",
      "6 X 8 = 48\n",
      "\n",
      "8 X 2 = 16\n",
      "8 X 4 = 32\n",
      "8 X 6 = 48\n",
      "8 X 8 = 64\n",
      "\n"
     ]
    }
   ],
   "source": [
    "a = 2\n",
    "\n",
    "while a <= 9:\n",
    "    if a % 2 == 0: \n",
    "        i = 2\n",
    "        while i <= 9:\n",
    "            if (a * i) % 2 == 0: \n",
    "                print(f\"{a} X {i} = {a * i}\") \n",
    "            i += 2\n",
    "        print()  \n",
    "    a += 1"
   ]
  },
  {
   "cell_type": "code",
   "execution_count": null,
   "metadata": {
    "id": "Geoed_MHn1mT"
   },
   "outputs": [],
   "source": []
  }
 ],
 "metadata": {
  "colab": {
   "authorship_tag": "ABX9TyOnUp/hoyBb9tWxjc8Ju5m+",
   "provenance": []
  },
  "kernelspec": {
   "display_name": "Python 3",
   "name": "python3"
  },
  "language_info": {
   "codemirror_mode": {
    "name": "ipython",
    "version": 3
   },
   "file_extension": ".py",
   "mimetype": "text/x-python",
   "name": "python",
   "nbconvert_exporter": "python",
   "pygments_lexer": "ipython3",
   "version": "3.13.2"
  }
 },
 "nbformat": 4,
 "nbformat_minor": 0
}
