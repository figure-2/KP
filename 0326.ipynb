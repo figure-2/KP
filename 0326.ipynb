{
 "cells": [
  {
   "cell_type": "code",
   "execution_count": 23,
   "metadata": {
    "colab": {
     "base_uri": "https://localhost:8080/"
    },
    "collapsed": true,
    "executionInfo": {
     "elapsed": 8837,
     "status": "ok",
     "timestamp": 1742950585172,
     "user": {
      "displayName": "이도형",
      "userId": "04042082736582415525"
     },
     "user_tz": -540
    },
    "id": "ZtoQ6WHxMRFK",
    "outputId": "4a7c35cf-976a-4dc1-fd61-9f6b820aa8cd"
   },
   "outputs": [
    {
     "name": "stdout",
     "output_type": "stream",
     "text": [
      "음료목록 1.오렌지주스(100원), 2.커피(200원), 3.콜라(300원)\n",
      "동전을 넣으세요: 1\n",
      "음료를 고르세요: 1\n",
      "잔액이 부족합니다.\n"
     ]
    }
   ],
   "source": [
    "while True:\n",
    "    print('음료목록 1.오렌지주스(100원), 2.커피(200원), 3.콜라(300원)')\n",
    "    coin = int(input('동전을 넣으세요: '))\n",
    "    drink = int(input('음료를 고르세요: '))\n",
    "\n",
    "    if drink == 1:\n",
    "        if coin >= 100:\n",
    "            remain = coin - 100\n",
    "            print('오렌지주스가 곧 제공됩니다.')\n",
    "            pprint(f'거스름돈은 {remain}원입니다.')\n",
    "        else:\n",
    "            print('잔액이 부족합니다.')\n",
    "    elif drink == 2:\n",
    "        if coin >= 200:\n",
    "            remain = coin - 200\n",
    "            print('커피가 곧 제공됩니다.')\n",
    "            print(f'거스름돈은 {remain}원입니다.')\n",
    "        else:\n",
    "            print('잔액이 부족합니다.')\n",
    "    elif drink == 3:\n",
    "        if coin >= 300:\n",
    "            remain = coin - 300\n",
    "            print('콜라가 곧 제공됩니다.')\n",
    "            print(f'거스름돈은 {remain}원입니다.')\n",
    "        else:\n",
    "            print('잔액이 부족합니다.')\n",
    "    else:\n",
    "        # 없는 번호\n",
    "        print('없는 메뉴입니다. 다시 입력해 주세요.')\n",
    "    break"
   ]
  },
  {
   "cell_type": "code",
   "execution_count": 25,
   "metadata": {
    "colab": {
     "base_uri": "https://localhost:8080/"
    },
    "executionInfo": {
     "elapsed": 9350,
     "status": "ok",
     "timestamp": 1742950625814,
     "user": {
      "displayName": "이도형",
      "userId": "04042082736582415525"
     },
     "user_tz": -540
    },
    "id": "NG0ImQnCOPHN",
    "outputId": "5e71dbba-a8b7-469d-f913-ffe3de346b12"
   },
   "outputs": [
    {
     "name": "stdout",
     "output_type": "stream",
     "text": [
      "음료목록 1.오렌지주스(100원), 2.커피(200원), 3.콜라(300원)\n",
      "동전을 넣으세요: 500\n",
      "음료를 고르세요: 1\n",
      "오렌지주스가 곧 제공됩니다.\n",
      "거스름돈은 400원입니다.\n",
      "음료목록 1.오렌지주스(100원), 2.커피(200원), 3.콜라(300원)\n",
      "동전을 넣으세요: 100\n",
      "음료를 고르세요: 2\n",
      "잔액이 부족합니다.\n"
     ]
    }
   ],
   "source": [
    "count = 0\n",
    "while count < 2:\n",
    "    print('음료목록 1.오렌지주스(100원), 2.커피(200원), 3.콜라(300원)')\n",
    "    coin = int(input('동전을 넣으세요: '))\n",
    "    drink = int(input('음료를 고르세요: '))\n",
    "\n",
    "    if drink == 1:\n",
    "        if coin >= 100:\n",
    "            remain = coin - 100\n",
    "            print('오렌지주스가 곧 제공됩니다.')\n",
    "            print(f'거스름돈은 {remain}원입니다.')\n",
    "        else:\n",
    "            print('잔액이 부족합니다.')\n",
    "    elif drink == 2:\n",
    "        if coin >= 200:\n",
    "            remain = coin - 200\n",
    "            print('커피가 곧 제공됩니다.')\n",
    "            pprint(f'거스름돈은 {remain}원입니다.')\n",
    "        else:\n",
    "            print('잔액이 부족합니다.')\n",
    "    elif drink == 3:\n",
    "        if coin >= 300:\n",
    "            remain = coin - 300\n",
    "            print('콜라가 곧 제공됩니다.')\n",
    "            print(f'거스름돈은 {remain}원입니다.')\n",
    "        else:\n",
    "            print('잔액이 부족합니다.')\n",
    "    else:\n",
    "        print('없는 메뉴입니다. 다시 입력해 주세요.')\n",
    "\n",
    "    count += 1"
   ]
  },
  {
   "cell_type": "code",
   "execution_count": null,
   "metadata": {
    "id": "7HeHdbSpOPs_"
   },
   "outputs": [],
   "source": []
  },
  {
   "cell_type": "markdown",
   "metadata": {
    "id": "ygx7Nzdw3Tjs"
   },
   "source": [
    "## 0326"
   ]
  },
  {
   "cell_type": "code",
   "execution_count": 6,
   "metadata": {
    "colab": {
     "base_uri": "https://localhost:8080/"
    },
    "executionInfo": {
     "elapsed": 49,
     "status": "ok",
     "timestamp": 1742948999392,
     "user": {
      "displayName": "이도형",
      "userId": "04042082736582415525"
     },
     "user_tz": -540
    },
    "id": "4pR8jc7Y2O3R",
    "outputId": "d3199825-188a-4c82-fb18-8873fb0a830c"
   },
   "outputs": [
    {
     "name": "stdout",
     "output_type": "stream",
     "text": [
      "5 X 1 = 5\n",
      "5 X 2 = 10\n",
      "5 X 3 = 15\n",
      "5 X 4 = 20\n",
      "5 X 5 = 25\n",
      "5 X 6 = 30\n",
      "5 X 7 = 35\n",
      "5 X 8 = 40\n",
      "5 X 9 = 45\n"
     ]
    }
   ],
   "source": [
    "a = 5\n",
    "\n",
    "for i in range(1,10):\n",
    "   print(f'{a} X {i} = {i*a}')\n",
    "#print('while 조건문을 for으로 변경')"
   ]
  },
  {
   "cell_type": "code",
   "execution_count": 8,
   "metadata": {
    "colab": {
     "base_uri": "https://localhost:8080/"
    },
    "executionInfo": {
     "elapsed": 11,
     "status": "ok",
     "timestamp": 1742949094274,
     "user": {
      "displayName": "이도형",
      "userId": "04042082736582415525"
     },
     "user_tz": -540
    },
    "id": "BWAeuaCL2lXI",
    "outputId": "5062f80d-77d4-42cb-8877-7ed85d3bad3f"
   },
   "outputs": [
    {
     "name": "stdout",
     "output_type": "stream",
     "text": [
      "5 X 1 = 5\n",
      "5 X 3 = 15\n",
      "5 X 5 = 25\n",
      "5 X 7 = 35\n",
      "5 X 9 = 45\n"
     ]
    }
   ],
   "source": [
    "a = 5\n",
    "\n",
    "for i in range(1,10,+2):\n",
    "   print(f'{a} X {i} = {i*a}')\n",
    "#print('while 조건문을 for으로 변경')"
   ]
  },
  {
   "cell_type": "code",
   "execution_count": null,
   "metadata": {
    "id": "PUAbQ48f3xRU"
   },
   "outputs": [],
   "source": []
  },
  {
   "cell_type": "code",
   "execution_count": 17,
   "metadata": {
    "colab": {
     "base_uri": "https://localhost:8080/"
    },
    "executionInfo": {
     "elapsed": 931,
     "status": "ok",
     "timestamp": 1742950368714,
     "user": {
      "displayName": "이도형",
      "userId": "04042082736582415525"
     },
     "user_tz": -540
    },
    "id": "RdXylyCq3uot",
    "outputId": "e1783d90-aa8f-44dc-d337-4b57f6f4d77d"
   },
   "outputs": [
    {
     "name": "stdout",
     "output_type": "stream",
     "text": [
      "10\n",
      "*\n",
      "**\n",
      "***\n",
      "****\n",
      "*****\n",
      "******\n",
      "*******\n",
      "********\n",
      "*********\n",
      "**********\n"
     ]
    }
   ],
   "source": [
    "star = '*'\n",
    "\n",
    "n = int(input())\n",
    "if n >=1:\n",
    " for i in range(1,n+1):\n",
    "  print(i*star)\n",
    "else:\n",
    "  print('양수값을 입력해주세요')"
   ]
  },
  {
   "cell_type": "code",
   "execution_count": null,
   "metadata": {
    "id": "dWI0eHPu7ef8"
   },
   "outputs": [],
   "source": []
  }
 ],
 "metadata": {
  "colab": {
   "authorship_tag": "ABX9TyM2pQ/RdZCqTXmg+aNUoQVG",
   "collapsed_sections": [
    "ygx7Nzdw3Tjs"
   ],
   "provenance": []
  },
  "kernelspec": {
   "display_name": "Python 3",
   "name": "python3"
  },
  "language_info": {
   "name": "python"
  }
 },
 "nbformat": 4,
 "nbformat_minor": 0
}
