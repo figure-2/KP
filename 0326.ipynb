{
 "cells": [
  {
   "cell_type": "markdown",
   "metadata": {
    "id": "ygx7Nzdw3Tjs"
   },
   "source": [
    "## 0326"
   ]
  },
  {
   "cell_type": "code",
   "execution_count": 6,
   "metadata": {
    "colab": {
     "base_uri": "https://localhost:8080/"
    },
    "executionInfo": {
     "elapsed": 49,
     "status": "ok",
     "timestamp": 1742948999392,
     "user": {
      "displayName": "이도형",
      "userId": "04042082736582415525"
     },
     "user_tz": -540
    },
    "id": "4pR8jc7Y2O3R",
    "outputId": "d3199825-188a-4c82-fb18-8873fb0a830c"
   },
   "outputs": [
    {
     "name": "stdout",
     "output_type": "stream",
     "text": [
      "5 X 1 = 5\n",
      "5 X 2 = 10\n",
      "5 X 3 = 15\n",
      "5 X 4 = 20\n",
      "5 X 5 = 25\n",
      "5 X 6 = 30\n",
      "5 X 7 = 35\n",
      "5 X 8 = 40\n",
      "5 X 9 = 45\n"
     ]
    }
   ],
   "source": [
    "a = 5\n",
    "\n",
    "for i in range(1,10):\n",
    "   print(f'{a} X {i} = {i*a}')\n",
    "#print('while 조건문을 for으로 변경')"
   ]
  },
  {
   "cell_type": "code",
   "execution_count": 8,
   "metadata": {
    "colab": {
     "base_uri": "https://localhost:8080/"
    },
    "executionInfo": {
     "elapsed": 11,
     "status": "ok",
     "timestamp": 1742949094274,
     "user": {
      "displayName": "이도형",
      "userId": "04042082736582415525"
     },
     "user_tz": -540
    },
    "id": "BWAeuaCL2lXI",
    "outputId": "5062f80d-77d4-42cb-8877-7ed85d3bad3f"
   },
   "outputs": [
    {
     "name": "stdout",
     "output_type": "stream",
     "text": [
      "5 X 1 = 5\n",
      "5 X 3 = 15\n",
      "5 X 5 = 25\n",
      "5 X 7 = 35\n",
      "5 X 9 = 45\n"
     ]
    }
   ],
   "source": [
    "a = 5\n",
    "\n",
    "for i in range(1,10,+2):\n",
    "   print(f'{a} X {i} = {i*a}')\n",
    "#print('while 조건문을 for으로 변경')"
   ]
  },
  {
   "cell_type": "code",
   "execution_count": null,
   "metadata": {
    "id": "PUAbQ48f3xRU"
   },
   "outputs": [],
   "source": []
  },
  {
   "cell_type": "code",
   "execution_count": 17,
   "metadata": {
    "colab": {
     "base_uri": "https://localhost:8080/"
    },
    "executionInfo": {
     "elapsed": 931,
     "status": "ok",
     "timestamp": 1742950368714,
     "user": {
      "displayName": "이도형",
      "userId": "04042082736582415525"
     },
     "user_tz": -540
    },
    "id": "RdXylyCq3uot",
    "outputId": "e1783d90-aa8f-44dc-d337-4b57f6f4d77d"
   },
   "outputs": [
    {
     "name": "stdout",
     "output_type": "stream",
     "text": [
      "10\n",
      "*\n",
      "**\n",
      "***\n",
      "****\n",
      "*****\n",
      "******\n",
      "*******\n",
      "********\n",
      "*********\n",
      "**********\n"
     ]
    }
   ],
   "source": [
    "star = '*'\n",
    "\n",
    "n = int(input())\n",
    "if n >=1:\n",
    " for i in range(1,n+1):\n",
    "  print(i*star)\n",
    "else:\n",
    "  print('양수값을 입력해주세요')"
   ]
  },
  {
   "cell_type": "code",
   "execution_count": 1,
   "metadata": {
    "id": "dWI0eHPu7ef8"
   },
   "outputs": [
    {
     "name": "stdout",
     "output_type": "stream",
     "text": [
      "      1 \n",
      "    2 3 4 \n",
      "  5 6 7 8  9 \n",
      "\n"
     ]
    }
   ],
   "source": [
    "num = 1\n",
    "rows = 4\n",
    "\n",
    "for i in range(1, rows + 1):\n",
    "    spaces = rows - i\n",
    "    print(\"  \" * spaces, end=\"\")\n",
    "\n",
    "    for j in range(2 * i - 1):\n",
    "        if num <= 9:\n",
    "            print(num, end=\" \")\n",
    "            if num == 8:\n",
    "                print(end=\" \")\n",
    "            num += 1\n",
    "        else:\n",
    "            break\n",
    "    print()"
   ]
  },
  {
   "cell_type": "code",
   "execution_count": null,
   "metadata": {},
   "outputs": [],
   "source": []
  }
 ],
 "metadata": {
  "colab": {
   "authorship_tag": "ABX9TyM2pQ/RdZCqTXmg+aNUoQVG",
   "collapsed_sections": [
    "ygx7Nzdw3Tjs"
   ],
   "provenance": []
  },
  "kernelspec": {
   "display_name": "Python 3",
   "name": "python3"
  },
  "language_info": {
   "codemirror_mode": {
    "name": "ipython",
    "version": 3
   },
   "file_extension": ".py",
   "mimetype": "text/x-python",
   "name": "python",
   "nbconvert_exporter": "python",
   "pygments_lexer": "ipython3",
   "version": "3.13.2"
  }
 },
 "nbformat": 4,
 "nbformat_minor": 0
}
